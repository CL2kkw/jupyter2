{
 "cells": [
  {
   "cell_type": "code",
   "execution_count": 7,
   "id": "559816e3-6ce2-4d46-90f0-4725cacb8535",
   "metadata": {},
   "outputs": [],
   "source": [
    "import numpy as np\n"
   ]
  },
  {
   "cell_type": "code",
   "execution_count": 8,
   "id": "f4c6d5f9-c3f6-40b2-b69e-01168660e401",
   "metadata": {},
   "outputs": [],
   "source": [
    "# define two pairs of vectors \n",
    "x1 = np.array([1, 1, 1, -1])\n",
    "y1 = np.array([1, -1])\n",
    "x2 = np.array([-1, -1, 1, 1])\n",
    "y2 = np.array([-1, 1])"
   ]
  },
  {
   "cell_type": "code",
   "execution_count": 9,
   "id": "a9f8b1e6-1d00-4bb2-b868-725e1849ebcb",
   "metadata": {},
   "outputs": [],
   "source": [
    "# compute weight matrix W\n",
    "W = np.outer(y1, x1) + np.outer(y2, x2)"
   ]
  },
  {
   "cell_type": "code",
   "execution_count": 10,
   "id": "67cee799-30a3-4715-ab34-2533acc0eb3a",
   "metadata": {},
   "outputs": [],
   "source": [
    "# define BAM function \n",
    "def bam(x):\n",
    "    y = W @ x\n",
    "    return np.where(y>=0, 1, -1)"
   ]
  },
  {
   "cell_type": "code",
   "execution_count": 11,
   "id": "f53dea93-dc8c-446d-ae8c-14407e929a1c",
   "metadata": {},
   "outputs": [],
   "source": [
    "# test BAM with inputs\n",
    "x_test = np.array([1, -1, -1, -1]) \n",
    "y_test = bam(x_test)"
   ]
  },
  {
   "cell_type": "code",
   "execution_count": 12,
   "id": "43d6d0da-b682-4d07-9655-c3b099a6e30f",
   "metadata": {},
   "outputs": [
    {
     "name": "stdout",
     "output_type": "stream",
     "text": [
      "Input x:  [ 1 -1 -1 -1]\n",
      "Output y:  [ 1 -1]\n"
     ]
    }
   ],
   "source": [
    "# print output \n",
    "print(\"Input x: \", x_test) \n",
    "print(\"Output y: \", y_test)"
   ]
  },
  {
   "cell_type": "code",
   "execution_count": null,
   "id": "79262f27-3b7d-42db-9545-9ab7e93edf61",
   "metadata": {},
   "outputs": [],
   "source": []
  }
 ],
 "metadata": {
  "kernelspec": {
   "display_name": "Python 3 (ipykernel)",
   "language": "python",
   "name": "python3"
  },
  "language_info": {
   "codemirror_mode": {
    "name": "ipython",
    "version": 3
   },
   "file_extension": ".py",
   "mimetype": "text/x-python",
   "name": "python",
   "nbconvert_exporter": "python",
   "pygments_lexer": "ipython3",
   "version": "3.11.7"
  }
 },
 "nbformat": 4,
 "nbformat_minor": 5
}
