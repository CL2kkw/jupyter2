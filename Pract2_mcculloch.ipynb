{
 "cells": [
  {
   "cell_type": "code",
   "execution_count": 1,
   "id": "b8264a5a-adfd-4e55-b4fe-6459bfd5ae9a",
   "metadata": {},
   "outputs": [],
   "source": [
    "#Generate ANDNOT function using McCulloch-Pitts neural net by a python program. "
   ]
  },
  {
   "cell_type": "code",
   "execution_count": 2,
   "id": "7b23072b-a8ec-470f-af34-e0b2be618b64",
   "metadata": {},
   "outputs": [],
   "source": [
    "import numpy as np"
   ]
  },
  {
   "cell_type": "code",
   "execution_count": 3,
   "id": "bc08c9c7-8045-4cfa-bffb-0efe45c1dc86",
   "metadata": {},
   "outputs": [],
   "source": [
    "def linear_threshold_gate(dot, T):\n",
    "    if dot >= T:\n",
    "        return 1 \n",
    "    else:\n",
    "        return 0"
   ]
  },
  {
   "cell_type": "code",
   "execution_count": 5,
   "id": "57c8d257-529d-4f49-a3ea-64bd2fe8bafb",
   "metadata": {},
   "outputs": [],
   "source": [
    "input_table = np.array([\n",
    "    [0,0], # both no\n",
    "    [0,1], # one no, one yes \n",
    "    [1,0], # one yes, one no \n",
    "    [1,1] # bot yes\n",
    "])"
   ]
  },
  {
   "cell_type": "code",
   "execution_count": 10,
   "id": "e4fcdcc5-7ca1-4ba5-8e6e-a705d9d61382",
   "metadata": {},
   "outputs": [
    {
     "name": "stdout",
     "output_type": "stream",
     "text": [
      "input table:\n",
      "[[0 0]\n",
      " [0 1]\n",
      " [1 0]\n",
      " [1 1]]\n",
      "dot products:\n",
      "[ 0 -1  1  0]\n"
     ]
    }
   ],
   "source": [
    "weights = np.array([1,-1])\n",
    "T = 1\n",
    "dot_products_sum = input_table @ weights\n",
    "print(f'input table:\\n{input_table}') \n",
    "print(f'dot products:\\n{dot_products_sum}')"
   ]
  },
  {
   "cell_type": "code",
   "execution_count": 11,
   "id": "7ab1e86c-e347-4100-aba8-90c31c053200",
   "metadata": {},
   "outputs": [
    {
     "name": "stdout",
     "output_type": "stream",
     "text": [
      "Activation: 0\n",
      "Activation: 0\n",
      "Activation: 1\n",
      "Activation: 0\n"
     ]
    }
   ],
   "source": [
    "for i in range(0,4):\n",
    "    activation = linear_threshold_gate(dot_products_sum[i], T) \n",
    "    print(f'Activation: {activation}')"
   ]
  },
  {
   "cell_type": "code",
   "execution_count": null,
   "id": "b56f9bf4-3adf-4102-ae43-772c706787aa",
   "metadata": {},
   "outputs": [],
   "source": []
  }
 ],
 "metadata": {
  "kernelspec": {
   "display_name": "Python 3 (ipykernel)",
   "language": "python",
   "name": "python3"
  },
  "language_info": {
   "codemirror_mode": {
    "name": "ipython",
    "version": 3
   },
   "file_extension": ".py",
   "mimetype": "text/x-python",
   "name": "python",
   "nbconvert_exporter": "python",
   "pygments_lexer": "ipython3",
   "version": "3.11.7"
  }
 },
 "nbformat": 4,
 "nbformat_minor": 5
}
