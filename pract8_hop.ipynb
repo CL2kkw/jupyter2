{
 "cells": [
  {
   "cell_type": "code",
   "execution_count": 1,
   "id": "eb84877b-4855-43eb-93eb-70a1e4cea37e",
   "metadata": {},
   "outputs": [],
   "source": [
    "import numpy as np "
   ]
  },
  {
   "cell_type": "code",
   "execution_count": 3,
   "id": "40060b4d-e6be-4fdf-a9e4-2916e7cd4fb9",
   "metadata": {},
   "outputs": [],
   "source": [
    "class HopfieldNetwork:\n",
    "    def __init__(self, n_neurons): \n",
    "        self.weights = np.zeros((n_neurons, n_neurons))\n",
    "\n",
    "    def train(self, patterns):\n",
    "        for pattern in patterns:\n",
    "            self.weights += np.outer(pattern, pattern) \n",
    "            np.fill_diagonal(self.weights, 0)\n",
    "\n",
    "    def predict(self, pattern):\n",
    "        energy = -0.5 * ((pattern @ self.weights) @ pattern) \n",
    "        return np.sign((pattern @ self.weights) + energy)"
   ]
  },
  {
   "cell_type": "code",
   "execution_count": 4,
   "id": "85c94861-a5b4-470a-ad12-cb907a7a0b28",
   "metadata": {},
   "outputs": [
    {
     "name": "stdout",
     "output_type": "stream",
     "text": [
      "Input pattern: [ 1  1 -1 -1]\n",
      "Predicted pattern: [-1. -1. -1. -1.]\n",
      "Input pattern: [-1 -1  1  1]\n",
      "Predicted pattern: [-1. -1. -1. -1.]\n",
      "Input pattern: [ 1 -1  1 -1]\n",
      "Predicted pattern: [-1. -1. -1. -1.]\n",
      "Input pattern: [-1  1 -1  1]\n",
      "Predicted pattern: [-1. -1. -1. -1.]\n"
     ]
    }
   ],
   "source": [
    "patterns = np.array([\n",
    "                [1, 1, -1, -1],\n",
    "                [-1, -1, 1, 1],\n",
    "                [1, -1, 1, -1],\n",
    "                [-1, 1, -1, 1]\n",
    "                ])\n",
    "n_neurons = 4\n",
    "\n",
    "network = HopfieldNetwork(n_neurons) \n",
    "\n",
    "network.train(patterns)\n",
    "\n",
    "for pattern in patterns:\n",
    "    prediction = network.predict(pattern) \n",
    "    print('Input pattern:', pattern) \n",
    "    print('Predicted pattern:', prediction)"
   ]
  },
  {
   "cell_type": "code",
   "execution_count": null,
   "id": "9dc3168d-a68d-412e-86a9-1089c64a4827",
   "metadata": {},
   "outputs": [],
   "source": []
  }
 ],
 "metadata": {
  "kernelspec": {
   "display_name": "Python 3 (ipykernel)",
   "language": "python",
   "name": "python3"
  },
  "language_info": {
   "codemirror_mode": {
    "name": "ipython",
    "version": 3
   },
   "file_extension": ".py",
   "mimetype": "text/x-python",
   "name": "python",
   "nbconvert_exporter": "python",
   "pygments_lexer": "ipython3",
   "version": "3.11.7"
  }
 },
 "nbformat": 4,
 "nbformat_minor": 5
}
