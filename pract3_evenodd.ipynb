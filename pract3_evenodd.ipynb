{
 "cells": [
  {
   "cell_type": "code",
   "execution_count": 1,
   "id": "b96d7848-855a-4b75-a15b-5c074da2cfec",
   "metadata": {},
   "outputs": [],
   "source": [
    "import numpy as np"
   ]
  },
  {
   "cell_type": "code",
   "execution_count": 2,
   "id": "a6abf492-0bb9-4a98-a666-c1c149d05f56",
   "metadata": {},
   "outputs": [],
   "source": [
    "def step_function(x):\n",
    "    return 1 if x >= 0 else 0\n",
    "\n",
    "# Define the perceptron function\n",
    "def perceptron(weights, inputs):\n",
    "    # Add bias term (assuming it's the first element of weights)\n",
    "    weighted_sum = np.dot(weights[1:], inputs) + weights[0]\n",
    "    return step_function(weighted_sum)\n"
   ]
  },
  {
   "cell_type": "code",
   "execution_count": 3,
   "id": "03505871-2580-4ada-9a25-e635999af333",
   "metadata": {},
   "outputs": [],
   "source": [
    "\n",
    "# Define the training data\n",
    "training_data = [\n",
    "    # ASCII representation of digits 0 to 9\n",
    "    (1, [0, 0, 0, 0, 0, 0, 0, 0, 0, 1]),  # 0\n",
    "    (0, [0, 0, 0, 0, 0, 0, 0, 0, 1, 0]),  # 1\n",
    "    (1, [0, 0, 0, 0, 0, 0, 0, 1, 0, 0]),  # 2\n",
    "    (0, [0, 0, 0, 0, 0, 0, 1, 0, 0, 0]),  # 3\n",
    "    (1, [0, 0, 0, 0, 0, 1, 0, 0, 0, 0]),  # 4\n",
    "    (0, [0, 0, 0, 0, 1, 0, 0, 0, 0, 0]),  # 5\n",
    "    (1, [0, 0, 0, 1, 0, 0, 0, 0, 0, 0]),  # 6\n",
    "    (0, [0, 0, 1, 0, 0, 0, 0, 0, 0, 0]),  # 7\n",
    "    (1, [0, 1, 0, 0, 0, 0, 0, 0, 0, 0]),  # 8\n",
    "    (0, [1, 0, 0, 0, 0, 0, 0, 0, 0, 0])   # 9\n",
    "]\n",
    "\n",
    "# Initialize weights randomly\n",
    "weights = np.random.rand(11)\n",
    "\n",
    "# Set learning rate\n",
    "learning_rate = 0.1\n",
    "\n",
    "# Train the perceptron\n",
    "for _ in range(1000):\n",
    "    for target, input_data in training_data:\n",
    "        prediction = perceptron(weights, input_data)\n",
    "        error = target - prediction\n",
    "        weights[1:] += learning_rate * error * np.array(input_data)\n",
    "        weights[0] += learning_rate * error\n",
    "\n",
    "# Test the perceptron\n",
    "test_data = [\n",
    "    [0, 0, 0, 0, 0, 0, 0, 0, 0, 1],  # 0\n",
    "    [0, 0, 0, 0, 0, 0, 0, 0, 1, 0],  # 1\n",
    "    [0, 0, 0, 0, 0, 0, 0, 1, 0, 0],  # 2\n",
    "    [0, 0, 0, 0, 0, 0, 1, 0, 0, 0],  # 3\n",
    "    [0, 0, 0, 0, 0, 1, 0, 0, 0, 0],  # 4\n",
    "    [0, 0, 0, 0, 1, 0, 0, 0, 0, 0],  # 5\n",
    "    [0, 0, 0, 1, 0, 0, 0, 0, 0, 0],  # 6\n",
    "    [0, 0, 1, 0, 0, 0, 0, 0, 0, 0],  # 7\n",
    "    [0, 1, 0, 0, 0, 0, 0, 0, 0, 0],  # 8\n",
    "    [1, 0, 0, 0, 0, 0, 0, 0, 0, 0]   # 9\n",
    "]"
   ]
  },
  {
   "cell_type": "code",
   "execution_count": 4,
   "id": "e3690339-dd68-4bab-b3ca-1ff2d11995fe",
   "metadata": {},
   "outputs": [
    {
     "name": "stdout",
     "output_type": "stream",
     "text": [
      "Testing the perceptron:\n",
      "Input: [0, 0, 0, 0, 0, 0, 0, 0, 0, 1] Prediction: Even\n",
      "Input: [0, 0, 0, 0, 0, 0, 0, 0, 1, 0] Prediction: Odd\n",
      "Input: [0, 0, 0, 0, 0, 0, 0, 1, 0, 0] Prediction: Even\n",
      "Input: [0, 0, 0, 0, 0, 0, 1, 0, 0, 0] Prediction: Odd\n",
      "Input: [0, 0, 0, 0, 0, 1, 0, 0, 0, 0] Prediction: Even\n",
      "Input: [0, 0, 0, 0, 1, 0, 0, 0, 0, 0] Prediction: Odd\n",
      "Input: [0, 0, 0, 1, 0, 0, 0, 0, 0, 0] Prediction: Even\n",
      "Input: [0, 0, 1, 0, 0, 0, 0, 0, 0, 0] Prediction: Odd\n",
      "Input: [0, 1, 0, 0, 0, 0, 0, 0, 0, 0] Prediction: Even\n",
      "Input: [1, 0, 0, 0, 0, 0, 0, 0, 0, 0] Prediction: Odd\n"
     ]
    }
   ],
   "source": [
    "print(\"Testing the perceptron:\")\n",
    "for input_data in test_data:\n",
    "    prediction = perceptron(weights, input_data)\n",
    "    print(\"Input:\", input_data, \"Prediction:\", \"Even\" if prediction == 1 else \"Odd\")"
   ]
  },
  {
   "cell_type": "code",
   "execution_count": null,
   "id": "5086f850-f01d-497f-9aab-b2dfc093f5a1",
   "metadata": {},
   "outputs": [],
   "source": []
  }
 ],
 "metadata": {
  "kernelspec": {
   "display_name": "Python 3 (ipykernel)",
   "language": "python",
   "name": "python3"
  },
  "language_info": {
   "codemirror_mode": {
    "name": "ipython",
    "version": 3
   },
   "file_extension": ".py",
   "mimetype": "text/x-python",
   "name": "python",
   "nbconvert_exporter": "python",
   "pygments_lexer": "ipython3",
   "version": "3.11.7"
  }
 },
 "nbformat": 4,
 "nbformat_minor": 5
}
