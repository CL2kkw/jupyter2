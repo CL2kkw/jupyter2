{
 "cells": [
  {
   "cell_type": "code",
   "execution_count": 1,
   "id": "3ddd78b3",
   "metadata": {},
   "outputs": [],
   "source": [
    "#MNIST Handwritten Character Detection using PyTorch, Keras and Tensorflow"
   ]
  },
  {
   "cell_type": "code",
   "execution_count": 1,
   "id": "5e980774",
   "metadata": {},
   "outputs": [],
   "source": [
    "import tensorflow as tf\n",
    "from keras.datasets import mnist \n",
    "from keras.models import Sequential\n",
    "from keras.layers import Dense, Flatten \n",
    "\n",
    "# Load and preprocess the MNIST dataset\n",
    "(X_train, y_train), (X_test, y_test) = mnist.load_data() "
   ]
  },
  {
   "cell_type": "code",
   "execution_count": 2,
   "id": "11260053",
   "metadata": {},
   "outputs": [],
   "source": [
    "X_train = X_train / 255.0  \n",
    "X_test = X_test / 255.0"
   ]
  },
  {
   "cell_type": "code",
   "execution_count": 3,
   "id": "6f8f0ff4",
   "metadata": {},
   "outputs": [
    {
     "name": "stderr",
     "output_type": "stream",
     "text": [
      "C:\\Users\\vikky\\AppData\\Local\\Packages\\PythonSoftwareFoundation.Python.3.12_qbz5n2kfra8p0\\LocalCache\\local-packages\\Python312\\site-packages\\keras\\src\\layers\\reshaping\\flatten.py:37: UserWarning: Do not pass an `input_shape`/`input_dim` argument to a layer. When using Sequential models, prefer using an `Input(shape)` object as the first layer in the model instead.\n",
      "  super().__init__(**kwargs)\n"
     ]
    },
    {
     "name": "stdout",
     "output_type": "stream",
     "text": [
      "Epoch 1/10\n",
      "\u001b[1m938/938\u001b[0m \u001b[32m━━━━━━━━━━━━━━━━━━━━\u001b[0m\u001b[37m\u001b[0m \u001b[1m2s\u001b[0m 1ms/step - accuracy: 0.8573 - loss: 0.5070\n",
      "Epoch 2/10\n",
      "\u001b[1m938/938\u001b[0m \u001b[32m━━━━━━━━━━━━━━━━━━━━\u001b[0m\u001b[37m\u001b[0m \u001b[1m1s\u001b[0m 991us/step - accuracy: 0.9579 - loss: 0.1443\n",
      "Epoch 3/10\n",
      "\u001b[1m938/938\u001b[0m \u001b[32m━━━━━━━━━━━━━━━━━━━━\u001b[0m\u001b[37m\u001b[0m \u001b[1m1s\u001b[0m 977us/step - accuracy: 0.9722 - loss: 0.0974\n",
      "Epoch 4/10\n",
      "\u001b[1m938/938\u001b[0m \u001b[32m━━━━━━━━━━━━━━━━━━━━\u001b[0m\u001b[37m\u001b[0m \u001b[1m1s\u001b[0m 978us/step - accuracy: 0.9776 - loss: 0.0757\n",
      "Epoch 5/10\n",
      "\u001b[1m938/938\u001b[0m \u001b[32m━━━━━━━━━━━━━━━━━━━━\u001b[0m\u001b[37m\u001b[0m \u001b[1m1s\u001b[0m 959us/step - accuracy: 0.9838 - loss: 0.0561\n",
      "Epoch 6/10\n",
      "\u001b[1m938/938\u001b[0m \u001b[32m━━━━━━━━━━━━━━━━━━━━\u001b[0m\u001b[37m\u001b[0m \u001b[1m1s\u001b[0m 961us/step - accuracy: 0.9868 - loss: 0.0442\n",
      "Epoch 7/10\n",
      "\u001b[1m938/938\u001b[0m \u001b[32m━━━━━━━━━━━━━━━━━━━━\u001b[0m\u001b[37m\u001b[0m \u001b[1m1s\u001b[0m 972us/step - accuracy: 0.9891 - loss: 0.0381\n",
      "Epoch 8/10\n",
      "\u001b[1m938/938\u001b[0m \u001b[32m━━━━━━━━━━━━━━━━━━━━\u001b[0m\u001b[37m\u001b[0m \u001b[1m1s\u001b[0m 967us/step - accuracy: 0.9919 - loss: 0.0291\n",
      "Epoch 9/10\n",
      "\u001b[1m938/938\u001b[0m \u001b[32m━━━━━━━━━━━━━━━━━━━━\u001b[0m\u001b[37m\u001b[0m \u001b[1m1s\u001b[0m 967us/step - accuracy: 0.9937 - loss: 0.0227\n",
      "Epoch 10/10\n",
      "\u001b[1m938/938\u001b[0m \u001b[32m━━━━━━━━━━━━━━━━━━━━\u001b[0m\u001b[37m\u001b[0m \u001b[1m1s\u001b[0m 991us/step - accuracy: 0.9946 - loss: 0.0206\n",
      "\u001b[1m313/313\u001b[0m \u001b[32m━━━━━━━━━━━━━━━━━━━━\u001b[0m\u001b[37m\u001b[0m \u001b[1m0s\u001b[0m 554us/step - accuracy: 0.9752 - loss: 0.0837\n"
     ]
    }
   ],
   "source": [
    "model = Sequential([Flatten(input_shape=(28, 28)), Dense(128, activation='relu'), Dense(10, activation='softmax')])\n",
    "\n",
    "model.compile(optimizer='adam', loss='sparse_categorical_crossentropy',metrics=['accuracy'])\n",
    "\n",
    "model.fit(X_train, y_train, epochs=10, batch_size=64 )\n",
    "\n",
    "loss, accuracy = model.evaluate(X_test, y_test) "
   ]
  },
  {
   "cell_type": "code",
   "execution_count": 4,
   "id": "130ecc98",
   "metadata": {},
   "outputs": [
    {
     "name": "stdout",
     "output_type": "stream",
     "text": [
      "Test Loss: 0.07214056700468063\n",
      "Test Accuracy: 0.9790999889373779\n"
     ]
    }
   ],
   "source": [
    "print(f\"Test Loss: {loss}\")\n",
    "print(f\"Test Accuracy: {accuracy}\")"
   ]
  },
  {
   "cell_type": "code",
   "execution_count": null,
   "id": "56e16a58",
   "metadata": {},
   "outputs": [],
   "source": []
  },
  {
   "cell_type": "code",
   "execution_count": null,
   "id": "9de96561",
   "metadata": {},
   "outputs": [],
   "source": []
  },
  {
   "cell_type": "code",
   "execution_count": null,
   "id": "5ecbfff7",
   "metadata": {},
   "outputs": [],
   "source": [
    "'''\n",
    "Import necessary libraries:\n",
    "TensorFlow: for building and training the neural network.\n",
    "Keras functions from TensorFlow: for building the neural network model.\n",
    "MNIST dataset from Keras: for loading the handwritten digit dataset.\n",
    "    \n",
    "Load the MNIST dataset using mnist.load_data() function from the Keras datasets module. The dataset contains 60,000 training images and 10,000 testing images of handwritten digits (0 through 9).\n",
    "\n",
    "Preprocess the data by scaling the pixel values to a range between 0 and 1. This is done by dividing the pixel values by 255.0.\n",
    "\n",
    "Build a simple neural network model using Keras Sequential API. The model consists of:\n",
    "A Flatten layer: to flatten the 2D input images into a 1D array.\n",
    "Two Dense layers:\n",
    "The first Dense layer with 128 neurons and ReLU activation function.\n",
    "The second Dense layer with 10 neurons (output layer) and softmax activation function, suitable for multi-class classification tasks.\n",
    "\n",
    "Compile the model using compile() method. Specify optimizer, loss function, and evaluation metrics. In this case:\n",
    "Optimizer: Adam optimizer.\n",
    "Loss function: Sparse categorical cross-entropy, suitable for multi-class classification tasks where the labels are integers.\n",
    "Evaluation metric: Accuracy.\n",
    "    \n",
    "Train the model on the training data using fit() method. Specify the training data, labels, number of epochs (iterations over the entire training dataset), and batch size.\n",
    "\n",
    "Evaluate the trained model on the test data using evaluate() method. This returns the loss value and evaluation metric value (accuracy) on the test set.\n",
    "\n",
    "Print the test loss and accuracy.\n",
    "\n",
    "This program trains a neural network model to classify handwritten digits from the MNIST dataset using TensorFlow/Keras and evaluates its performance using test data.\n",
    "\n",
    "'''"
   ]
  },
  {
   "cell_type": "code",
   "execution_count": null,
   "id": "4320139c",
   "metadata": {},
   "outputs": [],
   "source": []
  }
 ],
 "metadata": {
  "kernelspec": {
   "display_name": "Python 3 (ipykernel)",
   "language": "python",
   "name": "python3"
  },
  "language_info": {
   "codemirror_mode": {
    "name": "ipython",
    "version": 3
   },
   "file_extension": ".py",
   "mimetype": "text/x-python",
   "name": "python",
   "nbconvert_exporter": "python",
   "pygments_lexer": "ipython3",
   "version": "3.12.3"
  }
 },
 "nbformat": 4,
 "nbformat_minor": 5
}
