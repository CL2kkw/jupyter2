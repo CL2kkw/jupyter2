{
 "cells": [
  {
   "cell_type": "code",
   "execution_count": null,
   "id": "70637b7f-72fd-4574-8a4d-1ad8a52084e6",
   "metadata": {},
   "outputs": [],
   "source": [
    "import tensorflow as tf \n",
    "import numpy as np\n",
    "\n",
    "from keras.models import Sequential\n",
    "from keras.layers import Dense, Flatten\n",
    "from sklearn.model_selection import train_test_split \n",
    "from sklearn.preprocessing import StandardScaler \n",
    "from sklearn.datasets import load_breast_cancer"
   ]
  },
  {
   "cell_type": "code",
   "execution_count": null,
   "id": "6f1ba7da-5ec6-4775-ae28-e956146818e9",
   "metadata": {},
   "outputs": [],
   "source": [
    "df=load_breast_cancer()\n",
    "# two classifications -- malignant / benign\n"
   ]
  },
  {
   "cell_type": "code",
   "execution_count": null,
   "id": "7321780c-a7a0-4789-8cba-262f5ef6b2f3",
   "metadata": {},
   "outputs": [],
   "source": [
    "X_train,X_test,y_train,y_test=train_test_split(df.data,df.target,test_size=0.20,random_state=42) "
   ]
  },
  {
   "cell_type": "code",
   "execution_count": null,
   "id": "13deceff-dadf-4547-a588-42c16265979c",
   "metadata": {},
   "outputs": [],
   "source": [
    "sc=StandardScaler()\n",
    "X_train=sc.fit_transform(X_train)\n",
    "X_test=sc.transform(X_test)"
   ]
  },
  {
   "cell_type": "code",
   "execution_count": null,
   "id": "da3a4b1a-c8c2-4309-b3d2-85403eeb0e18",
   "metadata": {},
   "outputs": [],
   "source": [
    "model=Sequential([\n",
    "    Flatten(input_shape=(X_train.shape[1],)),\n",
    "    Dense(1,activation='sigmoid')\n",
    "    ]) \n"
   ]
  },
  {
   "cell_type": "code",
   "execution_count": null,
   "id": "caa20706-1788-45bd-b1a2-4e576511241e",
   "metadata": {},
   "outputs": [],
   "source": [
    "model.compile(optimizer='adam',loss='binary_crossentropy',metrics=['accuracy'])"
   ]
  },
  {
   "cell_type": "code",
   "execution_count": null,
   "id": "a9ad5f57-dc87-4396-8c79-51dfcbbef7ae",
   "metadata": {},
   "outputs": [],
   "source": [
    "model.fit(X_train,y_train,epochs=5) \n"
   ]
  },
  {
   "cell_type": "code",
   "execution_count": null,
   "id": "d990c387-2159-438d-b0ea-8326ee7382f1",
   "metadata": {},
   "outputs": [],
   "source": [
    "\n",
    "test_loss,test_accuracy = model.evaluate(X_test,y_test) \n",
    "\n",
    "print(\"Test Loss: \",test_loss)\n",
    "print(\"accuracy is\",test_accuracy)"
   ]
  },
  {
   "cell_type": "code",
   "execution_count": null,
   "id": "0149aa2a-548b-43ec-9fb7-c5d9caf9781f",
   "metadata": {},
   "outputs": [],
   "source": []
  }
 ],
 "metadata": {
  "kernelspec": {
   "display_name": "Python 3 (ipykernel)",
   "language": "python",
   "name": "python3"
  },
  "language_info": {
   "codemirror_mode": {
    "name": "ipython",
    "version": 3
   },
   "file_extension": ".py",
   "mimetype": "text/x-python",
   "name": "python",
   "nbconvert_exporter": "python",
   "pygments_lexer": "ipython3",
   "version": "3.11.7"
  }
 },
 "nbformat": 4,
 "nbformat_minor": 5
}
