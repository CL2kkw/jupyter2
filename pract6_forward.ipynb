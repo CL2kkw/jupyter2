{
 "cells": [
  {
   "cell_type": "code",
   "execution_count": 1,
   "id": "276bec21-8192-4731-95b1-57835b6e379e",
   "metadata": {},
   "outputs": [],
   "source": [
    "#Implement Artificial Neural Network training process in Python by using forward propagation,\n",
    "#backpropagation.\n",
    "\n",
    "# error = target - output\n",
    "# delta = error * sig_derivative (output of that layer)\n",
    "# w = w + transpose_input @ that_layer_delta\n",
    "# b = b + sum of columns of delta of that layer"
   ]
  },
  {
   "cell_type": "code",
   "execution_count": 2,
   "id": "cbc4dce0-d2b3-4758-a357-71ea47d0a9a4",
   "metadata": {},
   "outputs": [],
   "source": [
    "import numpy as np  "
   ]
  },
  {
   "cell_type": "code",
   "execution_count": 6,
   "id": "e970db89-8e8c-437b-8c31-ca47b3c95418",
   "metadata": {},
   "outputs": [],
   "source": [
    "class NeuralNetwork:\n",
    "    def __init__(self, input_size, hidden_size, output_size):\n",
    "        self.input_size = input_size\n",
    "        self.hidden_size = hidden_size\n",
    "        self.output_size = output_size\n",
    "        \n",
    "        # Initialize weights and biases\n",
    "        self.weights_input_hidden = np.random.randn(self.input_size, self.hidden_size)\n",
    "        self.bias_input_hidden = np.random.randn(1, self.hidden_size)\n",
    "        self.weights_hidden_output = np.random.randn(self.hidden_size, self.output_size)\n",
    "        self.bias_hidden_output = np.random.randn(1, self.output_size)\n",
    "        \n",
    "    def sigmoid(self, x):\n",
    "        return 1 / (1 + np.exp(-x))\n",
    "    \n",
    "    def sigmoid_derivative(self, x):\n",
    "        return x * (1 - x)\n",
    "    \n",
    "    def forward(self, x):\n",
    "        # Forward propagation\n",
    "        self.hidden_input = np.dot(x, self.weights_input_hidden) + self.bias_input_hidden\n",
    "        self.hidden_output = self.sigmoid(self.hidden_input)\n",
    "        self.output = np.dot(self.hidden_output, self.weights_hidden_output) + self.bias_hidden_output\n",
    "        return self.output\n",
    "    \n",
    "    def backward(self, x, y, output, learning_rate):\n",
    "        # Backpropagation\n",
    "        self.output_error = y - output\n",
    "        self.output_delta = self.output_error\n",
    "        self.hidden_error = self.output_delta.dot(self.weights_hidden_output.T)\n",
    "        self.hidden_delta = self.hidden_error * self.sigmoid_derivative(self.hidden_output)\n",
    "        \n",
    "        # Update weights and biases\n",
    "        self.weights_hidden_output += self.hidden_output.T.dot(self.output_delta) * learning_rate\n",
    "        self.bias_hidden_output += np.sum(self.output_delta) * learning_rate\n",
    "        self.weights_input_hidden += x.T.dot(self.hidden_delta) * learning_rate\n",
    "        self.bias_input_hidden += np.sum(self.hidden_delta) * learning_rate\n",
    "        \n",
    "    def train(self, X, y, epochs, learning_rate):\n",
    "        for epoch in range(epochs):\n",
    "            output = self.forward(X)\n",
    "            self.backward(X, y, output, learning_rate)\n",
    "            if epoch % 1000 == 0:\n",
    "                loss = np.mean(np.square(y - output))\n",
    "                print(f'Epoch {epoch}, Loss: {loss}')"
   ]
  },
  {
   "cell_type": "code",
   "execution_count": 7,
   "id": "794d834f-c614-472b-906f-396fd0d02f06",
   "metadata": {},
   "outputs": [],
   "source": [
    "# Define the input and output datasets\n",
    "X = np.array([[0, 0], [0, 1], [1, 0], [1, 1]])\n",
    "y = np.array([[0], [1], [1], [0]])"
   ]
  },
  {
   "cell_type": "code",
   "execution_count": 8,
   "id": "654c3c6a-dff7-4dec-a6c7-84f7cfc4ca22",
   "metadata": {},
   "outputs": [
    {
     "name": "stdout",
     "output_type": "stream",
     "text": [
      "[[0.00507041]\n",
      " [0.98659702]\n",
      " [0.98592601]\n",
      " [0.01692534]]\n"
     ]
    }
   ],
   "source": [
    "nn = NeuralNetwork(input_size=2, hidden_size=3, output_size=1)\n",
    "\n",
    "# Train neural network\n",
    "nn.train(X, y, epochs=10000, learning_rate=0.1)\n",
    "\n",
    "# Test the trained network\n",
    "test_input = np.array([[0, 0], [0, 1], [1, 0], [1, 1]])\n",
    "print(\"Predictions after training:\")\n",
    "print(nn.forward(test_input))"
   ]
  },
  {
   "cell_type": "code",
   "execution_count": null,
   "id": "bc08936a-ef23-4787-83b3-5f16785dcce8",
   "metadata": {},
   "outputs": [],
   "source": []
  }
 ],
 "metadata": {
  "kernelspec": {
   "display_name": "Python 3 (ipykernel)",
   "language": "python",
   "name": "python3"
  },
  "language_info": {
   "codemirror_mode": {
    "name": "ipython",
    "version": 3
   },
   "file_extension": ".py",
   "mimetype": "text/x-python",
   "name": "python",
   "nbconvert_exporter": "python",
   "pygments_lexer": "ipython3",
   "version": "3.11.7"
  }
 },
 "nbformat": 4,
 "nbformat_minor": 5
}
